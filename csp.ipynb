{
 "cells": [
  {
   "cell_type": "code",
   "execution_count": 11,
   "id": "f953d501-cd7f-4499-83fe-fb2592c44fa0",
   "metadata": {},
   "outputs": [
    {
     "name": "stdin",
     "output_type": "stream",
     "text": [
      "Enter the number of variables you want to have: 2\n",
      "Enter the name of variable A\n",
      "Enter the domain of the variable example 1 2 3 or 3 4 5 1 2 3 4 5 6\n",
      "Enter the name of variable B\n",
      "Enter the domain of the variable example 1 2 3 or 3 4 5 7 8 9 19\n"
     ]
    }
   ],
   "source": [
    "N_V = int(input(\"Enter the number of variables you want to have:\"))\n",
    "var_domain = {}\n",
    "for i in range(N_V):\n",
    "    varname = input(\"Enter the name of variable\")\n",
    "    domain = input(\"Enter the domain of the variable example 1 2 3 or 3 4 5\")\n",
    "    var_domain[varname] = domain    "
   ]
  },
  {
   "cell_type": "code",
   "execution_count": 12,
   "id": "ffe38f5b-7d69-45d4-87ce-10f9c9b0c701",
   "metadata": {},
   "outputs": [
    {
     "data": {
      "text/plain": [
       "{'A': '1 2 3 4 5 6', 'B': '7 8 9 19'}"
      ]
     },
     "execution_count": 12,
     "metadata": {},
     "output_type": "execute_result"
    }
   ],
   "source": [
    "var_domain\n"
   ]
  },
  {
   "cell_type": "code",
   "execution_count": 13,
   "id": "58af8fc4-f26b-43cb-bfa4-e14be8990f9c",
   "metadata": {},
   "outputs": [
    {
     "name": "stdin",
     "output_type": "stream",
     "text": [
      "Enter the number of uninary constraint you want: 2\n",
      "Enter you uninary constraint x < 5: A < 5\n",
      "Enter you uninary constraint x < 5: B < 10\n"
     ]
    }
   ],
   "source": [
    "N_UC = int(input(\"Enter the number of uninary constraint you want:\"))\n",
    "uni_const = []\n",
    "for i in range(N_UC):\n",
    "    uc = input(\"Enter you uninary constraint x < 5:\")\n",
    "    uni_const.append(uc)"
   ]
  },
  {
   "cell_type": "code",
   "execution_count": 14,
   "id": "40e520bd-f786-4d3d-a207-a42f11729b29",
   "metadata": {},
   "outputs": [
    {
     "data": {
      "text/plain": [
       "['A < 5', 'B < 10']"
      ]
     },
     "execution_count": 14,
     "metadata": {},
     "output_type": "execute_result"
    }
   ],
   "source": [
    "uni_const"
   ]
  },
  {
   "cell_type": "code",
   "execution_count": 65,
   "id": "d6648a87-9935-4f6b-a2b5-7668c3e0e8bd",
   "metadata": {},
   "outputs": [
    {
     "name": "stdin",
     "output_type": "stream",
     "text": [
      "Enter the numve of binary constraint you want to have 1\n",
      "Enter the binary constraint B > A + 3\n"
     ]
    }
   ],
   "source": [
    "N_BC = int(input(\"Enter the numve of binary constraint you want to have\"))\n",
    "binary_const = []\n",
    "for i in range(N_BC):\n",
    "    bc = input(\"Enter the binary constraint\")\n",
    "    binary_const.append(bc)"
   ]
  },
  {
   "cell_type": "code",
   "execution_count": 29,
   "id": "214ccad9-2656-4fe8-a34d-78f73492738b",
   "metadata": {},
   "outputs": [
    {
     "name": "stdout",
     "output_type": "stream",
     "text": [
      "A\n",
      "B\n"
     ]
    }
   ],
   "source": [
    "def apply_uc(uni_const, var_domain):\n",
    "    adjusted_domain = {}\n",
    "    for i in uni_const:\n",
    "        data = i.split(\" \")\n",
    "        print(data[0])\n",
    "        var_dom = var_domain.get(data[0]).split(\" \")\n",
    "        d = []\n",
    "        for j in var_dom:\n",
    "            # print(j)\n",
    "            if data[1] == '>':\n",
    "                if int(j) > int(data[2]):\n",
    "                    d.append(int(j))\n",
    "            \n",
    "            elif data[1] == '<':\n",
    "                if int(j) < int(data[2]):\n",
    "                    d.append(int(j))\n",
    "\n",
    "            elif data[1] == '=':\n",
    "                if int(j) == int(data[2]):\n",
    "                    d.append(int(j))\n",
    "        adjusted_domain[data[0]] = d\n",
    "    return adjusted_domain\n",
    "\n",
    "new_domain = apply_uc(uni_const, var_domain)"
   ]
  },
  {
   "cell_type": "code",
   "execution_count": 39,
   "id": "7adea4c8-2ea9-420b-934b-ccd0f813a690",
   "metadata": {},
   "outputs": [
    {
     "name": "stdout",
     "output_type": "stream",
     "text": [
      "{'A': '1 2 3 4 5 6', 'B': '7 8 9 19'}\n",
      "['A < 5', 'B < 10']\n",
      "{'A': [1, 2, 3, 4], 'B': [7, 8, 9]}\n"
     ]
    }
   ],
   "source": [
    "print(var_domain)\n",
    "print(uni_const)\n",
    "\n",
    "print(new_domain)"
   ]
  },
  {
   "cell_type": "code",
   "execution_count": 69,
   "id": "68712a2e-33cc-4adf-9665-1ba974599ec8",
   "metadata": {},
   "outputs": [
    {
     "data": {
      "text/plain": [
       "['B > A + 3']"
      ]
     },
     "execution_count": 69,
     "metadata": {},
     "output_type": "execute_result"
    }
   ],
   "source": [
    "binary_const"
   ]
  },
  {
   "cell_type": "code",
   "execution_count": 85,
   "id": "5b0b2492-f9b9-40fe-9f49-a63a332a8a1d",
   "metadata": {},
   "outputs": [
    {
     "name": "stdout",
     "output_type": "stream",
     "text": [
      "7 4\n",
      "7 5\n",
      "7 6\n",
      "7 7\n",
      "8 4\n",
      "8 5\n",
      "8 6\n",
      "8 7\n",
      "9 4\n",
      "9 5\n",
      "9 6\n",
      "9 7\n"
     ]
    }
   ],
   "source": [
    "def apply_bc(binary_const, new_domain):\n",
    "    new_adjusted_domain = {}\n",
    "    for i in binary_const:\n",
    "        data = i.split(' ')\n",
    "        var1 = new_domain.get(data[0])\n",
    "        var2 = new_domain.get(data[2])\n",
    "        d = []\n",
    "        for j in var1:\n",
    "            validity = []\n",
    "            for k in var2:\n",
    "                k_val = perform_ao(data[3], int(k), int(data[4]))\n",
    "                print(j, k_val)\n",
    "                if data[1] == '>':\n",
    "                    if int(j) > k_val:\n",
    "                        validity.append(True)\n",
    "                    else:\n",
    "                        validity.append(False)\n",
    "                \n",
    "                elif data[1] == '<':\n",
    "                    if int(j) < k_val:\n",
    "                        validity.append(True)\n",
    "                    else:\n",
    "                        validity.append(False)\n",
    "    \n",
    "                elif data[1] == '=':\n",
    "                    if int(j) == k_val:\n",
    "                        validity.append(True)\n",
    "                    else:\n",
    "                        validity.append(False)\n",
    "            if False not in validity:\n",
    "                d.append(int(j))\n",
    "        new_adjusted_domain[str(data[0])] = d\n",
    "                \n",
    "    return new_adjusted_domain\n",
    "def perform_ao(operator, var, const):\n",
    "    result = 0\n",
    "    if operator == '+':\n",
    "        result = var + const\n",
    "    elif operator == '-':\n",
    "        result = var - const\n",
    "    elif operator == '*':\n",
    "        result = var * const\n",
    "    elif operator == \"/\":\n",
    "        result = var / const\n",
    "    return result\n",
    "\n",
    "binary_adjusted_domain = apply_bc(binary_const, new_domain)"
   ]
  },
  {
   "cell_type": "code",
   "execution_count": 89,
   "id": "c42763fa-d783-485e-8459-01e3266f1090",
   "metadata": {},
   "outputs": [
    {
     "name": "stdout",
     "output_type": "stream",
     "text": [
      "('A', '1 2 3 4 5 6') ---- A < 5 -----> ('A', [1, 2, 3, 4])\n",
      "('B', '7 8 9 19') ---- B < 10 -----> ('B', [7, 8, 9])\n"
     ]
    }
   ],
   "source": [
    "for i in range(len(var_domain)):\n",
    "    print(list(var_domain.items())[i], '----', uni_const[i], '----->', list(new_domain.items())[i])"
   ]
  },
  {
   "cell_type": "code",
   "execution_count": 90,
   "id": "ae18ecf8-b6ab-41bf-98d3-a40ff6ede3fe",
   "metadata": {},
   "outputs": [
    {
     "data": {
      "text/plain": [
       "{'B': [8, 9]}"
      ]
     },
     "execution_count": 90,
     "metadata": {},
     "output_type": "execute_result"
    }
   ],
   "source": [
    "binary_adjusted_domain"
   ]
  }
 ],
 "metadata": {
  "kernelspec": {
   "display_name": "Python 3 (ipykernel)",
   "language": "python",
   "name": "python3"
  },
  "language_info": {
   "codemirror_mode": {
    "name": "ipython",
    "version": 3
   },
   "file_extension": ".py",
   "mimetype": "text/x-python",
   "name": "python",
   "nbconvert_exporter": "python",
   "pygments_lexer": "ipython3",
   "version": "3.12.3"
  }
 },
 "nbformat": 4,
 "nbformat_minor": 5
}
